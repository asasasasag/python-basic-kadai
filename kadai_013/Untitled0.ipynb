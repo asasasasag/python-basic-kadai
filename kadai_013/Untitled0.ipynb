{
  "nbformat": 4,
  "nbformat_minor": 0,
  "metadata": {
    "colab": {
      "provenance": []
    },
    "kernelspec": {
      "name": "python3",
      "display_name": "Python 3"
    },
    "language_info": {
      "name": "python"
    }
  },
  "cells": [
    {
      "cell_type": "code",
      "source": [
        "def calculate_total_price(price, tax_rate):\n",
        "    total_price = price * (1 + tax_rate)\n",
        "    return total_price\n",
        "\n",
        "# 入力欄\n",
        "price = 1000  # 商品の金額\n",
        "tax_rate = 0.10  # 消費税率（10%）\n",
        "total_price = calculate_total_price(price, tax_rate)\n",
        "print(f\"税込み価格: {total_price:.2f}円\")\n"
      ],
      "metadata": {
        "colab": {
          "base_uri": "https://localhost:8080/"
        },
        "id": "LxGsLEooQgno",
        "outputId": "4a95c4c8-71e3-48dc-8878-b1d522203a8f"
      },
      "execution_count": 33,
      "outputs": [
        {
          "output_type": "stream",
          "name": "stdout",
          "text": [
            "税込み価格: 1100.00円\n"
          ]
        }
      ]
    }
  ]
}