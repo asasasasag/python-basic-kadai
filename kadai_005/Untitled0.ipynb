{
  "nbformat": 4,
  "nbformat_minor": 0,
  "metadata": {
    "colab": {
      "provenance": []
    },
    "kernelspec": {
      "name": "python3",
      "display_name": "Python 3"
    },
    "language_info": {
      "name": "python"
    }
  },
  "cells": [
    {
      "cell_type": "code",
      "source": [
        "top_line = 10\n",
        "under_line = 20\n",
        "hight = 5\n",
        "\n",
        "area = (top_line + under_line) * hight / 2  # 台形の面積を計算し、変数に代入\n",
        "\n",
        "print(str(area) + \"cm^2\")  # 計算結果を出力"
      ],
      "metadata": {
        "colab": {
          "base_uri": "https://localhost:8080/"
        },
        "id": "EO2CHoLAmjEM",
        "outputId": "a111e183-b116-45a2-c6a4-39a9eed6cd71"
      },
      "execution_count": 6,
      "outputs": [
        {
          "output_type": "stream",
          "name": "stdout",
          "text": [
            "75.0cm^2\n"
          ]
        }
      ]
    }
  ]
}